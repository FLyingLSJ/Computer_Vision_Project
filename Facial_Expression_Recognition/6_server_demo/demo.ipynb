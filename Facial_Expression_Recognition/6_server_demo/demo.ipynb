{
 "cells": [
  {
   "cell_type": "markdown",
   "metadata": {},
   "source": [
    "安装`pip install Flask`\n",
    "\n",
    "\n",
    "参考资料：http://docs.jinkan.org/docs/flask/quickstart.html#quickstart"
   ]
  },
  {
   "cell_type": "code",
   "execution_count": 2,
   "metadata": {
    "ExecuteTime": {
     "end_time": "2019-08-01T09:17:07.457670Z",
     "start_time": "2019-08-01T09:16:53.922692Z"
    }
   },
   "outputs": [
    {
     "name": "stdout",
     "output_type": "stream",
     "text": [
      " * Serving Flask app \"__main__\" (lazy loading)\n",
      " * Environment: production\n",
      "   WARNING: Do not use the development server in a production environment.\n",
      "   Use a production WSGI server instead.\n",
      " * Debug mode: off\n"
     ]
    },
    {
     "name": "stderr",
     "output_type": "stream",
     "text": [
      " * Running on http://0.0.0.0:5000/ (Press CTRL+C to quit)\n"
     ]
    }
   ],
   "source": [
    "from flask import Flask # \n",
    "app = Flask(__name__) # 创建一个 Flask 实例，使用单一模块，应该使用 __name__\n",
    "\n",
    "@app.route('/') # 使用 route() 装饰器告诉 Flask 什么样的URL 能触发我们的函数。\n",
    "def hello_world():\n",
    "    return 'Hello World!'\n",
    "\n",
    "if __name__ == '__main__':\n",
    "    app.run(host='0.0.0.0', debug=False) # 使你的服务器公开可用，WIN+R-> cmd -> ipconfig/all 可以看见主机名：在任意电脑输入 主机名:5000 即可看到效果"
   ]
  },
  {
   "cell_type": "markdown",
   "metadata": {},
   "source": [
    "- host='0.0.0.0' 有该参数时，可以设置任意电脑可以访问\n",
    "- debug=False： 调试模式，**不能用于生产环境**"
   ]
  },
  {
   "cell_type": "markdown",
   "metadata": {},
   "source": [
    "路由\n",
    "-----\n",
    "route() 装饰器把一个函数绑定到对应的 URL 上。"
   ]
  },
  {
   "cell_type": "code",
   "execution_count": 7,
   "metadata": {
    "ExecuteTime": {
     "end_time": "2019-08-01T09:27:56.631349Z",
     "start_time": "2019-08-01T09:27:50.673935Z"
    }
   },
   "outputs": [
    {
     "name": "stdout",
     "output_type": "stream",
     "text": [
      " * Serving Flask app \"__main__\" (lazy loading)\n",
      " * Environment: production\n",
      "   WARNING: Do not use the development server in a production environment.\n",
      "   Use a production WSGI server instead.\n",
      " * Debug mode: off\n"
     ]
    },
    {
     "name": "stderr",
     "output_type": "stream",
     "text": [
      " * Running on http://0.0.0.0:5000/ (Press CTRL+C to quit)\n",
      "192.168.123.13 - - [01/Aug/2019 17:27:53] \"\u001b[37mGET / HTTP/1.1\u001b[0m\" 200 -\n"
     ]
    }
   ],
   "source": [
    "from flask import Flask # \n",
    "app = Flask(__name__) # 创建一个 Flask 实例，使用单一模块，应该使用 __name__\n",
    "\n",
    "@app.route('/') # 使用 route() 装饰器告诉 Flask 什么样的URL 能触发我们的函数。\n",
    "def home(): # 主页\n",
    "    return '我是主页!'\n",
    "\n",
    "@app.route('/hello') # 使用 route() 装饰器告诉 Flask 什么样的URL 能触发我们的函数。\n",
    "def hello_world():\n",
    "    return r'我是 hello 页' # 主机名:5000/hello 就可以显示特定页面信息\n",
    "\n",
    "if __name__ == '__main__':\n",
    "    app.run(host='0.0.0.0', debug=False) # 使你的服务器公开可用，WIN+R-> cmd -> ipconfig/all 可以看见主机名：在任意电脑输入 主机名:5000 即可看到效果"
   ]
  },
  {
   "cell_type": "markdown",
   "metadata": {},
   "source": [
    "变量规则\n",
    "\n",
    "要给 URL 添加变量部分，你可以把这些特殊的字段标记为 `<variable_name>` ， 这个部分将会作为命名参数传递到你的函数。规则可以用 `<converter:variable_name>` 指定一个可选的转换器。\n",
    "\n",
    "转换器有下面几种：\n",
    "- int\t接受整数\n",
    "- float\t同 int ，但是接受浮点数\n",
    "- path\t和默认的相似，但也接受斜线"
   ]
  },
  {
   "cell_type": "code",
   "execution_count": 8,
   "metadata": {
    "ExecuteTime": {
     "end_time": "2019-08-01T09:32:01.997935Z",
     "start_time": "2019-08-01T09:31:31.297352Z"
    }
   },
   "outputs": [
    {
     "name": "stdout",
     "output_type": "stream",
     "text": [
      " * Serving Flask app \"__main__\" (lazy loading)\n",
      " * Environment: production\n",
      "   WARNING: Do not use the development server in a production environment.\n",
      "   Use a production WSGI server instead.\n",
      " * Debug mode: off\n"
     ]
    },
    {
     "name": "stderr",
     "output_type": "stream",
     "text": [
      " * Running on http://0.0.0.0:5000/ (Press CTRL+C to quit)\n",
      "192.168.123.13 - - [01/Aug/2019 17:31:34] \"\u001b[37mGET / HTTP/1.1\u001b[0m\" 200 -\n",
      "192.168.123.13 - - [01/Aug/2019 17:31:43] \"\u001b[37mGET /post/1 HTTP/1.1\u001b[0m\" 200 -\n",
      "192.168.123.13 - - [01/Aug/2019 17:31:56] \"\u001b[37mGET /user/%E6%A2%81%E4%B8%96%E4%BD%B3 HTTP/1.1\u001b[0m\" 200 -\n"
     ]
    }
   ],
   "source": [
    "from flask import Flask # \n",
    "app = Flask(__name__) # 创建一个 Flask 实例，使用单一模块，应该使用 __name__\n",
    "\n",
    "@app.route('/') # 使用 route() 装饰器告诉 Flask 什么样的URL 能触发我们的函数。\n",
    "def hello_world():\n",
    "    return 'Hello World!'\n",
    "\n",
    "@app.route('/user/<username>')\n",
    "def show_user_profile(username):\n",
    "    # show the user profile for that user\n",
    "    return 'User %s' % username\n",
    "\n",
    "@app.route('/post/<int:post_id>') # 可以指定数据类型\n",
    "def show_post(post_id):\n",
    "    # show the post with the given id, the id is an integer\n",
    "    return 'Post %d' % post_id\n",
    "\n",
    "if __name__ == '__main__':\n",
    "    app.run(host='0.0.0.0', debug=False) # 使你的服务器公开可用，WIN+R-> cmd -> ipconfig/all 可以看见主机名：在任意电脑输入 主机名:5000 即可看到效果\n",
    "    "
   ]
  },
  {
   "cell_type": "markdown",
   "metadata": {},
   "source": [
    "唯一 URL / 重定向行为\n",
    "\n",
    "Flask 的 URL 规则基于 Werkzeug 的路由模块。这个模块背后的思想是基于 Apache 以及更早的 HTTP 服务器主张的先例，保证优雅且唯一的 URL。\n",
    "\n",
    "**访问一个结尾不带斜线的 URL 会被 Flask 重定向到带斜线的规范 URL 去。**\n",
    "```python\n",
    "@app.route('/projects/')\n",
    "def projects():\n",
    "    return 'The project page'\n",
    "```\n",
    "\n",
    "**URL 结尾不带斜线，类似 UNIX-like 系统下的文件的路径名。访问结尾带斜线的 URL 会产生一个 404 “Not Found” 错误。**\n",
    "```python\n",
    "@app.route('/about')\n",
    "def about():\n",
    "    return 'The about page'\n",
    "```\n",
    "\n",
    "这个行为使得在遗忘尾斜线时，允许关联的 URL 接任工作，与 Apache 和其它的服务器的行为并无二异。此外，也保证了 URL 的唯一，有助于避免搜索引擎索引同一个页面两次。"
   ]
  },
  {
   "cell_type": "code",
   "execution_count": 9,
   "metadata": {
    "ExecuteTime": {
     "end_time": "2019-08-01T09:40:56.158876Z",
     "start_time": "2019-08-01T09:40:04.815165Z"
    }
   },
   "outputs": [
    {
     "name": "stdout",
     "output_type": "stream",
     "text": [
      " * Serving Flask app \"__main__\" (lazy loading)\n",
      " * Environment: production\n",
      "   WARNING: Do not use the development server in a production environment.\n",
      "   Use a production WSGI server instead.\n",
      " * Debug mode: off\n"
     ]
    },
    {
     "name": "stderr",
     "output_type": "stream",
     "text": [
      " * Running on http://0.0.0.0:5000/ (Press CTRL+C to quit)\n",
      "192.168.123.13 - - [01/Aug/2019 17:40:27] \"\u001b[32mGET /projects HTTP/1.1\u001b[0m\" 301 -\n",
      "192.168.123.13 - - [01/Aug/2019 17:40:27] \"\u001b[37mGET /projects/ HTTP/1.1\u001b[0m\" 200 -\n",
      "192.168.123.13 - - [01/Aug/2019 17:40:33] \"\u001b[37mGET /projects/ HTTP/1.1\u001b[0m\" 200 -\n",
      "192.168.123.13 - - [01/Aug/2019 17:40:35] \"\u001b[37mGET /projects/ HTTP/1.1\u001b[0m\" 200 -\n",
      "192.168.123.13 - - [01/Aug/2019 17:40:42] \"\u001b[37mGET /projects/ HTTP/1.1\u001b[0m\" 200 -\n",
      "192.168.123.13 - - [01/Aug/2019 17:40:46] \"\u001b[37mGET /about HTTP/1.1\u001b[0m\" 200 -\n"
     ]
    }
   ],
   "source": [
    "from flask import Flask # \n",
    "app = Flask(__name__) # 创建一个 Flask 实例，使用单一模块，应该使用 __name__\n",
    "\n",
    "@app.route('/') # 使用 route() 装饰器告诉 Flask 什么样的URL 能触发我们的函数。\n",
    "def hello_world():\n",
    "    return 'Hello World!'\n",
    "\n",
    "@app.route('/projects/')\n",
    "def projects():\n",
    "    return 'The project page'\n",
    "\n",
    "@app.route('/about')\n",
    "def about():\n",
    "    return 'The about page'\n",
    "\n",
    "if __name__ == '__main__':\n",
    "    app.run(host='0.0.0.0', debug=False) # 使你的服务器公开可用，WIN+R-> cmd -> ipconfig/all 可以看见主机名：在任意电脑输入 主机名:5000 即可看到效果\n",
    "    "
   ]
  },
  {
   "cell_type": "markdown",
   "metadata": {},
   "source": [
    "构造 url\n",
    "\n",
    "如果 Flask 能匹配 URL，那么 Flask 可以生成它们吗？当然可以。你可以用 `url_for()` 来给指定的函数构造 URL。它接受函数名作为第一个参数，也接受对应 URL 规则的变量部分的命名参数。未知变量部分会添加到 URL 末尾作为查询参数。\n",
    "\n",
    "\n",
    "为什么要构建 URL 而非在模板中硬编码？这里有三个绝妙的理由：\n",
    "- 反向构建通常比硬编码的描述性更好。更重要的是，它允许你一次性修改 URL， 而不是到处边找边改。\n",
    "- URL 构建会转义特殊字符和 Unicode 数据，免去你很多麻烦。\n",
    "- 如果你的应用不位于 URL 的根路径（比如，在 /myapplication 下，而不是 / ）， url_for() 会妥善处理这个问题。"
   ]
  },
  {
   "cell_type": "code",
   "execution_count": 15,
   "metadata": {
    "ExecuteTime": {
     "end_time": "2019-08-01T09:47:53.379205Z",
     "start_time": "2019-08-01T09:47:53.369213Z"
    }
   },
   "outputs": [
    {
     "name": "stdout",
     "output_type": "stream",
     "text": [
      "/\n",
      "/login\n",
      "/login?next=%2F\n",
      "/user/John%20Doe\n"
     ]
    }
   ],
   "source": [
    "from flask import Flask, url_for\n",
    "app = Flask(__name__)\n",
    "\n",
    "\n",
    "@app.route('/')\n",
    "def index():\n",
    "    pass\n",
    "\n",
    "\n",
    "@app.route('/login')\n",
    "def login():\n",
    "    pass\n",
    "\n",
    "\n",
    "@app.route('/user/<username>')\n",
    "def profile(username):\n",
    "    pass\n",
    "\n",
    "\n",
    "with app.test_request_context():\n",
    "    print(url_for('index'))\n",
    "    print(url_for('login'))\n",
    "    print(url_for('login', next='/'))\n",
    "    print(url_for('profile', username='John Doe'))"
   ]
  },
  {
   "cell_type": "markdown",
   "metadata": {},
   "source": [
    "HTTP 方法\n",
    "\n",
    "HTTP 方法（也经常被叫做 “谓词”）告知服务器，客户端想对请求的页面 做 些什么。下面的都是非常常见的方法：\n",
    "\n",
    "- GET:浏览器告知服务器：只 获取 页面上的信息并发给我。这是最常用的方法。\n",
    "- HEAD:浏览器告诉服务器：欲获取信息，但是只关心 消息头 。应用应像处理 GET 请求一样来处理它，但是不分发实际内容。在 Flask 中你完全无需 人工 干预，底层的 Werkzeug 库已经替你打点好了。\n",
    "- POST:浏览器告诉服务器：想在 URL 上 发布 新信息。并且，服务器必须确保 数据已存储且仅存储一次。这是 HTML 表单通常发送数据到服务器的方法。\n",
    "- PUT:类似 POST 但是服务器可能触发了存储过程多次，多次覆盖掉旧值。你可 能会问这有什么用，当然这是有原因的。考虑到传输中连接可能会丢失，在 这种 情况下浏览器和服务器之间的系统可能安全地第二次接收请求，而 不破坏其它东西。因为 POST 它只触发一次，所以用 POST 是不可能的。\n",
    "- DELETE:删除给定位置的信息。\n",
    "- OPTIONS:给客户端提供一个敏捷的途径来弄清这个 URL 支持哪些 HTTP 方法。 从 Flask 0.6 开始，实现了自动处:。"
   ]
  },
  {
   "cell_type": "markdown",
   "metadata": {},
   "source": [
    "静态文件\n",
    "\n",
    "动态 web 应用也会需要静态文件，通常是 CSS 和 JavaScript 文件。理想状况下， 你已经配置好 Web 服务器来提供静态文件，但是在开发中，Flask 也可以做到。 只要在你的包中或是模块的所在目录中创建一个名为 static 的文件夹，在应用中使用  /static 即可访问。\n",
    "\n",
    "\n",
    "```python\n",
    "url_for('static', filename='style.css') # 这个文件应该存储在文件系统上的 static/style.css 。\n",
    "```"
   ]
  },
  {
   "cell_type": "markdown",
   "metadata": {
    "ExecuteTime": {
     "end_time": "2019-08-01T11:23:47.697781Z",
     "start_time": "2019-08-01T11:23:47.674794Z"
    }
   },
   "source": [
    "模板渲染\n",
    "\n",
    "用 Python 生成 HTML 十分无趣，而且相当繁琐，因为你必须手动对 HTML 做转义来保证应用的安全。为此，Flask 配备了 [Jinja2](http://jinja.pocoo.org/) 模板引擎\n",
    "\n",
    "可以使用 render_template() 方法来渲染模板。你需要做的一切就是将模板名和你想作为关键字的参数传入模板的变量。"
   ]
  },
  {
   "cell_type": "code",
   "execution_count": 10,
   "metadata": {
    "ExecuteTime": {
     "end_time": "2019-08-02T03:59:37.667595Z",
     "start_time": "2019-08-02T03:55:24.808325Z"
    }
   },
   "outputs": [
    {
     "name": "stdout",
     "output_type": "stream",
     "text": [
      " * Serving Flask app \"__main__\" (lazy loading)\n",
      " * Environment: production\n",
      "   WARNING: Do not use the development server in a production environment.\n",
      "   Use a production WSGI server instead.\n",
      " * Debug mode: off\n"
     ]
    },
    {
     "name": "stderr",
     "output_type": "stream",
     "text": [
      " * Running on http://127.0.0.1:5000/ (Press CTRL+C to quit)\n",
      "127.0.0.1 - - [02/Aug/2019 11:55:26] \"\u001b[37mGET / HTTP/1.1\u001b[0m\" 200 -\n"
     ]
    }
   ],
   "source": [
    "from flask import Flask\n",
    "from flask import render_template\n",
    "\n",
    "app = Flask(__name__)  # 创建一个 Flask 实例，使用单一模块，应该使用 __name__\n",
    "\n",
    "@app.route('/')\n",
    "@app.route('/hello/')\n",
    "@app.route('/hello/<name>')\n",
    "def hello(name=None):\n",
    "    return render_template('hello.html', name=name)\n",
    "\n",
    "\n",
    "if __name__ == '__main__':\n",
    "    # 使你的服务器公开可用，WIN+R-> cmd -> ipconfig/all 可以看见主机名：在任意电脑输入 主机名:5000 即可看到效果\n",
    "    app.run()"
   ]
  },
  {
   "cell_type": "markdown",
   "metadata": {},
   "source": [
    "Flask 会在 `templates` 文件夹里寻找模板。所以，如果你的应用是个模块，这个文件夹应该与模块同级；如果它是一个包，那么这个文件夹作为包的子目录: \n",
    "\n",
    "第一种情况：模块\n",
    "```css\n",
    "/application.py\n",
    "/templates\n",
    "    /hello.html\n",
    "```\n",
    "\n",
    "第一种情况：包\n",
    "```css\n",
    "/application\n",
    "    /__init__.py\n",
    "    /templates\n",
    "        /hello.html\n",
    "```\n"
   ]
  },
  {
   "cell_type": "code",
   "execution_count": 13,
   "metadata": {
    "ExecuteTime": {
     "end_time": "2019-08-01T13:52:02.971315Z",
     "start_time": "2019-08-01T13:52:02.965322Z"
    }
   },
   "outputs": [
    {
     "data": {
      "text/plain": [
       "Markup('<strong>Hello &lt;blink&gt;hacker&lt;/blink&gt;!</strong>')"
      ]
     },
     "execution_count": 13,
     "metadata": {},
     "output_type": "execute_result"
    }
   ],
   "source": [
    "from flask import Markup\n",
    "Markup('<strong>Hello %s!</strong>') % '<blink>hacker</blink>'"
   ]
  },
  {
   "cell_type": "code",
   "execution_count": 14,
   "metadata": {
    "ExecuteTime": {
     "end_time": "2019-08-01T13:52:05.516861Z",
     "start_time": "2019-08-01T13:52:05.510863Z"
    }
   },
   "outputs": [
    {
     "data": {
      "text/plain": [
       "Markup('&lt;blink&gt;hacker&lt;/blink&gt;')"
      ]
     },
     "execution_count": 14,
     "metadata": {},
     "output_type": "execute_result"
    }
   ],
   "source": [
    "Markup.escape('<blink>hacker</blink>')"
   ]
  },
  {
   "cell_type": "code",
   "execution_count": 9,
   "metadata": {
    "ExecuteTime": {
     "end_time": "2019-08-01T13:51:25.227539Z",
     "start_time": "2019-08-01T13:51:24.785790Z"
    }
   },
   "outputs": [
    {
     "data": {
      "text/plain": [
       "'Marked up » HTML'"
      ]
     },
     "execution_count": 9,
     "metadata": {},
     "output_type": "execute_result"
    }
   ],
   "source": [
    "Markup('<em>Marked up</em> &raquo; HTML').striptags()"
   ]
  },
  {
   "cell_type": "markdown",
   "metadata": {},
   "source": [
    "访问请求数据\n"
   ]
  },
  {
   "cell_type": "code",
   "execution_count": null,
   "metadata": {},
   "outputs": [],
   "source": []
  },
  {
   "cell_type": "code",
   "execution_count": null,
   "metadata": {},
   "outputs": [],
   "source": []
  },
  {
   "cell_type": "code",
   "execution_count": 31,
   "metadata": {
    "ExecuteTime": {
     "end_time": "2019-08-02T08:53:06.677554Z",
     "start_time": "2019-08-02T08:52:51.676128Z"
    }
   },
   "outputs": [
    {
     "name": "stdout",
     "output_type": "stream",
     "text": [
      " * Serving Flask app \"__main__\" (lazy loading)\n",
      " * Environment: production\n",
      "   WARNING: Do not use the development server in a production environment.\n",
      "   Use a production WSGI server instead.\n",
      " * Debug mode: off\n"
     ]
    },
    {
     "name": "stderr",
     "output_type": "stream",
     "text": [
      " * Running on http://127.0.0.1:5000/ (Press CTRL+C to quit)\n",
      "127.0.0.1 - - [02/Aug/2019 16:52:53] \"\u001b[37mGET / HTTP/1.1\u001b[0m\" 200 -\n",
      "[2019-08-02 16:52:59,163] ERROR in app: Exception on /upload [POST]\n",
      "Traceback (most recent call last):\n",
      "  File \"C:\\Anaconda3\\lib\\site-packages\\flask\\app.py\", line 2292, in wsgi_app\n",
      "    response = self.full_dispatch_request()\n",
      "  File \"C:\\Anaconda3\\lib\\site-packages\\flask\\app.py\", line 1815, in full_dispatch_request\n",
      "    rv = self.handle_user_exception(e)\n",
      "  File \"C:\\Anaconda3\\lib\\site-packages\\flask\\app.py\", line 1718, in handle_user_exception\n",
      "    reraise(exc_type, exc_value, tb)\n",
      "  File \"C:\\Anaconda3\\lib\\site-packages\\flask\\_compat.py\", line 35, in reraise\n",
      "    raise value\n",
      "  File \"C:\\Anaconda3\\lib\\site-packages\\flask\\app.py\", line 1813, in full_dispatch_request\n",
      "    rv = self.dispatch_request()\n",
      "  File \"C:\\Anaconda3\\lib\\site-packages\\flask\\app.py\", line 1799, in dispatch_request\n",
      "    return self.view_functions[rule.endpoint](**req.view_args)\n",
      "  File \"<ipython-input-31-43541ca1b721>\", line 12, in upload\n",
      "    file.save(filePath)\n",
      "  File \"C:\\Anaconda3\\lib\\site-packages\\werkzeug\\datastructures.py\", line 2725, in save\n",
      "    dst = open(dst, 'wb')\n",
      "FileNotFoundError: [Errno 2] No such file or directory: 'tmp/static/image/qrcode_for_gh_d72b49a29271_258.jpg'\n",
      "127.0.0.1 - - [02/Aug/2019 16:52:59] \"\u001b[1m\u001b[35mPOST /upload HTTP/1.1\u001b[0m\" 500 -\n"
     ]
    }
   ],
   "source": [
    "from flask import Flask,request\n",
    "import os\n",
    "\n",
    "app = Flask(__name__)\n",
    "\n",
    "@app.route('/upload', methods=['POST'])\n",
    "def upload():\n",
    "    file = request.files['file']\n",
    "    fileName = file.filename\n",
    "    filePath = os.path.join(\"tmp/static/image/\", fileName)\n",
    "    if file:\n",
    "        file.save(filePath)\n",
    "        print(\"sucess\")\n",
    "        return \"sucess\"\n",
    "    else:\n",
    "        return 'failed'\n",
    "\n",
    "@app.route('/')\n",
    "def index():\n",
    "    return '''\n",
    "    <!doctype html>\n",
    "    <html>\n",
    "    <body>\n",
    "    <form action='/upload' method='post' enctype='multipart/form-data'>\n",
    "        <input type='file' name='file'>\n",
    "    <input type='submit' value='Upload'>\n",
    "    </form>\n",
    "    '''    \n",
    "if __name__ == '__main__':\n",
    "    app.run()\n"
   ]
  },
  {
   "cell_type": "code",
   "execution_count": 26,
   "metadata": {
    "ExecuteTime": {
     "end_time": "2019-08-01T14:40:59.290078Z",
     "start_time": "2019-08-01T14:40:59.284083Z"
    }
   },
   "outputs": [
    {
     "data": {
      "text/plain": [
       "'./static/image\\\\1'"
      ]
     },
     "execution_count": 26,
     "metadata": {},
     "output_type": "execute_result"
    }
   ],
   "source": [
    "# coding:utf-8\n",
    "from flask import request, Flask\n",
    "import os\n",
    "app = Flask(__name__)\n",
    "\n",
    "\n",
    "@app.route(\"/\", methods=['POST'])\n",
    "def get_frame():\n",
    "    upload_file = request.files['file']\n",
    "    old_file_name = upload_file.filename\n",
    "    file_path = os.path.join('/local/share/DeepLearning',\n",
    "                             'new' + old_file_name)\n",
    "\n",
    "    if upload_file:\n",
    "        upload_file.save(file_path)\n",
    "        print(\"success\")\n",
    "        return 'success'\n",
    "    else:\n",
    "        return 'failed'\n",
    "\n",
    "\n",
    "if __name__ == \"__main__\":\n",
    "    app.run(\"0.0.0.0\", port=5000)"
   ]
  },
  {
   "cell_type": "code",
   "execution_count": null,
   "metadata": {},
   "outputs": [],
   "source": []
  },
  {
   "cell_type": "code",
   "execution_count": null,
   "metadata": {},
   "outputs": [],
   "source": []
  },
  {
   "cell_type": "code",
   "execution_count": null,
   "metadata": {},
   "outputs": [],
   "source": []
  },
  {
   "cell_type": "code",
   "execution_count": 1,
   "metadata": {
    "ExecuteTime": {
     "end_time": "2019-08-29T07:44:29.910639Z",
     "start_time": "2019-08-29T07:43:58.367490Z"
    }
   },
   "outputs": [
    {
     "name": "stdout",
     "output_type": "stream",
     "text": [
      " * Serving Flask app \"__main__\" (lazy loading)\n",
      " * Environment: production\n",
      "   WARNING: Do not use the development server in a production environment.\n",
      "   Use a production WSGI server instead.\n",
      " * Debug mode: off\n"
     ]
    },
    {
     "name": "stderr",
     "output_type": "stream",
     "text": [
      " * Running on http://127.0.0.1:5000/ (Press CTRL+C to quit)\n",
      "127.0.0.1 - - [29/Aug/2019 15:44:00] \"\u001b[37mGET / HTTP/1.1\u001b[0m\" 200 -\n",
      "[2019-08-29 15:44:09,379] ERROR in app: Exception on /upload [POST]\n",
      "Traceback (most recent call last):\n",
      "  File \"C:\\Anaconda3\\lib\\site-packages\\flask\\app.py\", line 2292, in wsgi_app\n",
      "    response = self.full_dispatch_request()\n",
      "  File \"C:\\Anaconda3\\lib\\site-packages\\flask\\app.py\", line 1815, in full_dispatch_request\n",
      "    rv = self.handle_user_exception(e)\n",
      "  File \"C:\\Anaconda3\\lib\\site-packages\\flask\\app.py\", line 1718, in handle_user_exception\n",
      "    reraise(exc_type, exc_value, tb)\n",
      "  File \"C:\\Anaconda3\\lib\\site-packages\\flask\\_compat.py\", line 35, in reraise\n",
      "    raise value\n",
      "  File \"C:\\Anaconda3\\lib\\site-packages\\flask\\app.py\", line 1813, in full_dispatch_request\n",
      "    rv = self.dispatch_request()\n",
      "  File \"C:\\Anaconda3\\lib\\site-packages\\flask\\app.py\", line 1799, in dispatch_request\n",
      "    return self.view_functions[rule.endpoint](**req.view_args)\n",
      "  File \"<ipython-input-1-7002c27e0ef5>\", line 13, in upload\n",
      "    file = request.files['file']\n",
      "NameError: name 'request' is not defined\n",
      "127.0.0.1 - - [29/Aug/2019 15:44:09] \"\u001b[1m\u001b[35mPOST /upload HTTP/1.1\u001b[0m\" 500 -\n"
     ]
    }
   ],
   "source": [
    "from flask import Flask\n",
    "from flask import render_template\n",
    "\n",
    "app = Flask(__name__)  # 创建一个 Flask 实例，使用单一模块，应该使用 __name__\n",
    "\n",
    "@app.route('/')\n",
    "def hello(imgPath=None):\n",
    "    return render_template('index.html', imgPath=\"./static/image/1.jpg\")\n",
    "\n",
    "\n",
    "@app.route('/upload', methods=['POST'])\n",
    "def upload(imgPath=None):\n",
    "    file = request.files['file']\n",
    "    fileName = file.filename\n",
    "    filePath = \"./static/image/\" + fileName\n",
    "#     print(filePath)\n",
    "    if file:\n",
    "        file.save(filePath)\n",
    "        return render_template('index.html', imgPath=filePath)\n",
    "    else:\n",
    "        return render_template('index.html', imgPath=\"./static/image/1.jpg\")\n",
    "\n",
    "if __name__ == '__main__':\n",
    "    # 使你的服务器公开可用，WIN+R-> cmd -> ipconfig/all 可以看见主机名：在任意电脑输入 主机名:5000 即可看到效果\n",
    "    app.run()"
   ]
  },
  {
   "cell_type": "code",
   "execution_count": null,
   "metadata": {
    "ExecuteTime": {
     "start_time": "2019-08-29T08:13:55.159Z"
    }
   },
   "outputs": [
    {
     "name": "stdout",
     "output_type": "stream",
     "text": [
      " * Serving Flask app \"__main__\" (lazy loading)\n",
      " * Environment: production\n",
      "   WARNING: Do not use the development server in a production environment.\n",
      "   Use a production WSGI server instead.\n",
      " * Debug mode: off\n"
     ]
    },
    {
     "name": "stderr",
     "output_type": "stream",
     "text": [
      " * Running on http://0.0.0.0:5000/ (Press CTRL+C to quit)\n",
      "127.0.0.1 - - [29/Aug/2019 16:14:03] \"GET / HTTP/1.1\" 200 -\n",
      "127.0.0.1 - - [29/Aug/2019 16:14:03] \"GET /static/image/logo.jpg HTTP/1.1\" 200 -\n",
      "127.0.0.1 - - [29/Aug/2019 16:14:10] \"POST /upload HTTP/1.1\" 200 -\n",
      "127.0.0.1 - - [29/Aug/2019 16:14:10] \"GET /static/image/000025.jpg HTTP/1.1\" 200 -\n"
     ]
    }
   ],
   "source": [
    "from flask import Flask, request\n",
    "from flask import render_template\n",
    "import time\n",
    "from expression_demo import expression_predict  # 表情预测项目\n",
    "\n",
    "\n",
    "system_path = \"./\"\n",
    "app = Flask(__name__)  # 创建一个 Flask 实例，使用单一模块，应该使用 __name__\n",
    "\n",
    "\n",
    "@app.route('/')\n",
    "def hello(imgPath=None):\n",
    "    return render_template('index.html', imgPath=system_path+\"static/image/logo.jpg\")\n",
    "\n",
    "\n",
    "@app.route('/upload', methods=['POST'])\n",
    "def upload(imgPath=None, result=\"None\"):\n",
    "    \"\"\"\n",
    "    :param imgPath: 上传的图片会保存在服务器里\n",
    "    :param result: 预测的结果\n",
    "    :return:\n",
    "    \"\"\"\n",
    "    file = request.files['file']\n",
    "    fileName = file.filename\n",
    "    filePath = system_path+\"static/image/\"+fileName  #\"/tmp/flask_img_predict/static/image/\" + fileName  # 图片路径\n",
    "#     print(filePath)\n",
    "    if file:\n",
    "        file.save(filePath)\n",
    "        result = expression_predict(filePath)\n",
    "        if result is None:\n",
    "            result = \"could not found your beauty face\"\n",
    "        return render_template('index.html', imgPath=system_path+\"static/image/\"+fileName, result=result)\n",
    "    else:\n",
    "        return render_template('index.html', imgPath=system_path+\"static/image/logo.jpg\")\n",
    "\n",
    "    \n",
    "    \n",
    "if __name__ == '__main__':\n",
    "    # 使你的服务器公开可用，WIN+R-> cmd -> ipconfig/all 可以看见主机名：在任意电脑输入 主机名:5000 即可看到效果\n",
    "    app.run(host=\"0.0.0.0\") # \n"
   ]
  },
  {
   "cell_type": "code",
   "execution_count": null,
   "metadata": {},
   "outputs": [],
   "source": []
  },
  {
   "cell_type": "code",
   "execution_count": null,
   "metadata": {},
   "outputs": [],
   "source": []
  },
  {
   "cell_type": "code",
   "execution_count": null,
   "metadata": {},
   "outputs": [],
   "source": []
  },
  {
   "cell_type": "code",
   "execution_count": null,
   "metadata": {},
   "outputs": [],
   "source": []
  },
  {
   "cell_type": "code",
   "execution_count": 10,
   "metadata": {
    "ExecuteTime": {
     "end_time": "2019-08-29T07:03:21.951367Z",
     "start_time": "2019-08-29T07:03:20.013842Z"
    }
   },
   "outputs": [
    {
     "name": "stdout",
     "output_type": "stream",
     "text": [
      "None\n"
     ]
    }
   ],
   "source": [
    "#!usr/bin/env python\n",
    "# -*- coding:utf-8 _*-\n",
    "\"\"\"\n",
    "@author:asus_pc\n",
    "@file: face_detector.py\n",
    "@time: 2019/08/17\n",
    "\"\"\"\n",
    "\n",
    "# 开发环境\n",
    "# Python3.6\n",
    "\n",
    "# Python 2/3 compatibility\n",
    "from __future__ import print_function\n",
    "import cv2  # 4.0.0\n",
    "import dlib  # 19.8.1 到 https://pypi.org/simple/dlib/ 下载 whl 文件 pip install *.whl 安装\n",
    "import numpy as np  # 1.16.2\n",
    "from pathlib import Path\n",
    "import sys\n",
    "import torch\n",
    "import torch.nn as nn\n",
    "import torch.optim as optim\n",
    "from torch.optim import lr_scheduler\n",
    "from torch.autograd import Variable\n",
    "import torchvision\n",
    "from torchvision import datasets, models, transforms\n",
    "import time\n",
    "import os\n",
    "from PIL import Image\n",
    "import torch.nn.functional as F\n",
    "from net import simpleconv3\n",
    "\n",
    "# 配置 Dlib 关键点检测路径\n",
    "# 文件可以从 http://dlib.net/files/ 下载\n",
    "PREDICTOR_PATH = \"./static/face_detector_trained/shape_predictor_68_face_landmarks.dat\"\n",
    "predictor = dlib.shape_predictor(PREDICTOR_PATH)  # 关键点检测\n",
    "# 配置人脸检测器路径\n",
    "cascade_path = \"./static/face_detector_trained/haarcascade_frontalface_default.xml\"  # 在 opencv github 可以找到\n",
    "# 初始化分类器\n",
    "cascade = cv2.CascadeClassifier(cascade_path)\n",
    "\n",
    "\n",
    "data_transforms = transforms.Compose([\n",
    "    transforms.Resize(48),\n",
    "    transforms.ToTensor(),\n",
    "    transforms.Normalize([0.5, 0.5, 0.5], [0.5, 0.5, 0.5])\n",
    "])\n",
    "\n",
    "net = simpleconv3()\n",
    "modelpath = \"./models/expression_models/model.ckpt\"\n",
    "net.load_state_dict(\n",
    "    torch.load(modelpath, map_location=lambda storage, loc: storage))\n",
    "\n",
    "result_dict = {0: \"no-smile\", 1: \"pout\", 2: \"smile\"}\n",
    "    \n",
    "\n",
    "    \n",
    "    \n",
    "# 调用 cascade.detectMultiScale 人脸检测器和 Dlib 的关键点检测算法 predictor 获得关键点结果\n",
    "def get_landmarks(im):\n",
    "    try:\n",
    "        rects = cascade.detectMultiScale(im, 1.3, 5)  # 进行多尺度检测\n",
    "        if len(rects) == 1:\n",
    "            x, y, w, h = rects[0]\n",
    "            rect = dlib.rectangle(int(x), int(y), int(x + w), int(y + h))  # 获得检测框\n",
    "            return np.matrix([[p.x, p.y] for p in predictor(im, rect).parts()])  # 调用 dlib 关键点检测\n",
    "    except:\n",
    "        return None\n",
    "\n",
    "\n",
    "#  打印关键点信息方便调试\n",
    "def annotat_landmarks(im, landmarks):\n",
    "    im = im.copy()\n",
    "    for idx, point in enumerate(landmarks):\n",
    "        pos = (point[0, 0], point[0, 1])\n",
    "        cv2.putText(im, str(idx),\n",
    "                    pos,\n",
    "                    fontFace=cv2.FONT_HERSHEY_SCRIPT_SIMPLEX,\n",
    "                    fontScale=0.4,\n",
    "                    color=(0, 0, 255))\n",
    "        cv2.circle(im, pos, 5, color=(0, 255, 255))\n",
    "    return im\n",
    "\n",
    "\n",
    "def get_mouth(im):\n",
    "    # 得到 68 个关键点\n",
    "    landmarks = get_landmarks(im)\n",
    "    if landmarks is not None:\n",
    "        # print(landmarks)\n",
    "        xmin = 10000\n",
    "        xmax = 0\n",
    "        ymin = 10000\n",
    "        ymax = 0\n",
    "        # 根据最外围的关键点获取包围嘴唇的最小矩形框\n",
    "        # 68 个关键点是从\n",
    "        # 左耳朵0 -下巴-右耳朵16-左眉毛（17-21）-右眉毛（22-26）-左眼睛（36-41）\n",
    "        # 右眼睛（42-47）-鼻子从上到下（27-30）-鼻孔（31-35）\n",
    "        # 嘴巴外轮廓（48-59）嘴巴内轮廓（60-67）\n",
    "        for i in range(48, 67):\n",
    "            x = landmarks[i, 0]\n",
    "            y = landmarks[i, 1]\n",
    "            if x < xmin:\n",
    "                xmin = x\n",
    "            if x > xmax:\n",
    "                xmax = x\n",
    "            if y < ymin:\n",
    "                ymin = y\n",
    "            if y > ymax:\n",
    "                ymax = y\n",
    "        # print(\"xmin\", xmin)\n",
    "        # print(\"xmax\", xmax)\n",
    "        # print(\"ymin\", ymin)\n",
    "        # print(\"ymax\", ymax)\n",
    "        roiwidth = xmax - xmin  # 矩形框的宽和高\n",
    "        roiheight = ymax - ymin\n",
    "        roi = im[ymin:ymax, xmin:xmax, :]\n",
    "        # cv2.imshow(\"roi_0\", roi)\n",
    "        # 将最小矩形扩大 1.5 倍，获得最终矩形框\n",
    "        if roiwidth > roiheight:  # 宽和高哪个大哪个就 ×1.5 倍\n",
    "            dstlen = 1.5 * roiwidth\n",
    "        else:\n",
    "            dstlen = 1.5 * roiheight\n",
    "\n",
    "        diff_xlen = dstlen - roiwidth\n",
    "        diff_ylen = dstlen - roiheight\n",
    "        newx = xmin\n",
    "        newy = ymin\n",
    "        imagerows, imagecols, ch = im.shape\n",
    "        # print(\"imagerows, imagecols\", imagerows, imagecols)\n",
    "        if newx >= diff_xlen / 2 and newx + roiwidth + diff_xlen / 2 < imagecols:\n",
    "            newx = newx - diff_xlen / 2\n",
    "        elif newx < diff_xlen / 2:\n",
    "            newx = 0\n",
    "        else:\n",
    "            newx = imagecols - dstlen\n",
    "        if newy >= diff_ylen / 2 and newy + roiheight + diff_ylen / 2 < imagerows:\n",
    "            newy = newy - diff_ylen / 2\n",
    "        elif newy < diff_ylen / 2:\n",
    "            newy = 0\n",
    "        else:\n",
    "            newy = imagecols - dstlen\n",
    "\n",
    "        roi = im[int(newy):int(newy + dstlen), int(newx):int(newx + dstlen), :]\n",
    "        return roi\n",
    "    return None\n",
    "\n",
    "\n",
    "def expression_predict(img_path):\n",
    "    im = cv2.imread(img_path)\n",
    "    roi = get_mouth(im)\n",
    "    if roi is not None:\n",
    "        roi_pil = Image.fromarray(roi)\n",
    "        imgblob = data_transforms(roi_pil).unsqueeze(0)\n",
    "#         print(imgblob.shape)  # [1, 3, 48, 48]\n",
    "        imgblob = Variable(imgblob)\n",
    "        torch.no_grad()\n",
    "        predict = F.softmax(net(imgblob), dim=1)\n",
    "        result = predict.argmax().item()\n",
    "#         print(result_dict[result])\n",
    "        return result_dict[result]\n",
    "    return None\n",
    "        \n",
    "# print(expression_predict(\"test_img/pout.jpg\"))"
   ]
  },
  {
   "cell_type": "code",
   "execution_count": null,
   "metadata": {},
   "outputs": [],
   "source": []
  }
 ],
 "metadata": {
  "hide_input": false,
  "kernelspec": {
   "display_name": "Python 3",
   "language": "python",
   "name": "python3"
  },
  "language_info": {
   "codemirror_mode": {
    "name": "ipython",
    "version": 3
   },
   "file_extension": ".py",
   "mimetype": "text/x-python",
   "name": "python",
   "nbconvert_exporter": "python",
   "pygments_lexer": "ipython3",
   "version": "3.6.6"
  },
  "toc": {
   "base_numbering": 1,
   "nav_menu": {},
   "number_sections": true,
   "sideBar": true,
   "skip_h1_title": false,
   "title_cell": "Table of Contents",
   "title_sidebar": "Contents",
   "toc_cell": false,
   "toc_position": {},
   "toc_section_display": true,
   "toc_window_display": false
  },
  "varInspector": {
   "cols": {
    "lenName": 16,
    "lenType": 16,
    "lenVar": 40
   },
   "kernels_config": {
    "python": {
     "delete_cmd_postfix": "",
     "delete_cmd_prefix": "del ",
     "library": "var_list.py",
     "varRefreshCmd": "print(var_dic_list())"
    },
    "r": {
     "delete_cmd_postfix": ") ",
     "delete_cmd_prefix": "rm(",
     "library": "var_list.r",
     "varRefreshCmd": "cat(var_dic_list()) "
    }
   },
   "types_to_exclude": [
    "module",
    "function",
    "builtin_function_or_method",
    "instance",
    "_Feature"
   ],
   "window_display": false
  }
 },
 "nbformat": 4,
 "nbformat_minor": 2
}
